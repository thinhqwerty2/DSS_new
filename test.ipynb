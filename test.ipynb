{
 "cells": [
  {
   "cell_type": "code",
   "execution_count": null,
   "outputs": [],
   "source": [
    "from pmdarima import auto_arima\n",
    "\n"
   ],
   "metadata": {
    "collapsed": false
   }
  },
  {
   "cell_type": "code",
   "execution_count": 2,
   "outputs": [
    {
     "name": "stderr",
     "output_type": "stream",
     "text": [
      "C:\\Users\\thinh\\anaconda3\\lib\\site-packages\\pmdarima\\arima\\_auto_solvers.py:524: ModelFitWarning: Error fitting  ARIMA(1,1,0)(2,0,2)[12] intercept (if you do not want to see these warnings, run with error_action=\"ignore\").\n",
      "Traceback:\n",
      "Traceback (most recent call last):\n",
      "  File \"C:\\Users\\thinh\\anaconda3\\lib\\site-packages\\pmdarima\\arima\\_auto_solvers.py\", line 508, in _fit_candidate_model\n",
      "    fit.fit(y, X=X, **fit_params)\n",
      "  File \"C:\\Users\\thinh\\anaconda3\\lib\\site-packages\\pmdarima\\arima\\arima.py\", line 603, in fit\n",
      "    self._fit(y, X, **fit_args)\n",
      "  File \"C:\\Users\\thinh\\anaconda3\\lib\\site-packages\\pmdarima\\arima\\arima.py\", line 524, in _fit\n",
      "    fit, self.arima_res_ = _fit_wrapper()\n",
      "  File \"C:\\Users\\thinh\\anaconda3\\lib\\site-packages\\pmdarima\\arima\\arima.py\", line 510, in _fit_wrapper\n",
      "    fitted = arima.fit(\n",
      "  File \"C:\\Users\\thinh\\anaconda3\\lib\\site-packages\\statsmodels\\tsa\\statespace\\mlemodel.py\", line 704, in fit\n",
      "    mlefit = super(MLEModel, self).fit(start_params, method=method,\n",
      "  File \"C:\\Users\\thinh\\anaconda3\\lib\\site-packages\\statsmodels\\base\\model.py\", line 563, in fit\n",
      "    xopt, retvals, optim_settings = optimizer._fit(f, score, start_params,\n",
      "  File \"C:\\Users\\thinh\\anaconda3\\lib\\site-packages\\statsmodels\\base\\optimizer.py\", line 241, in _fit\n",
      "    xopt, retvals = func(objective, gradient, start_params, fargs, kwargs,\n",
      "  File \"C:\\Users\\thinh\\anaconda3\\lib\\site-packages\\statsmodels\\base\\optimizer.py\", line 651, in _fit_lbfgs\n",
      "    retvals = optimize.fmin_l_bfgs_b(func, start_params, maxiter=maxiter,\n",
      "  File \"C:\\Users\\thinh\\anaconda3\\lib\\site-packages\\scipy\\optimize\\_lbfgsb_py.py\", line 197, in fmin_l_bfgs_b\n",
      "    res = _minimize_lbfgsb(fun, x0, args=args, jac=jac, bounds=bounds,\n",
      "  File \"C:\\Users\\thinh\\anaconda3\\lib\\site-packages\\scipy\\optimize\\_lbfgsb_py.py\", line 359, in _minimize_lbfgsb\n",
      "    f, g = func_and_grad(x)\n",
      "  File \"C:\\Users\\thinh\\anaconda3\\lib\\site-packages\\scipy\\optimize\\_differentiable_functions.py\", line 286, in fun_and_grad\n",
      "    self._update_grad()\n",
      "  File \"C:\\Users\\thinh\\anaconda3\\lib\\site-packages\\scipy\\optimize\\_differentiable_functions.py\", line 256, in _update_grad\n",
      "    self._update_grad_impl()\n",
      "  File \"C:\\Users\\thinh\\anaconda3\\lib\\site-packages\\scipy\\optimize\\_differentiable_functions.py\", line 173, in update_grad\n",
      "    self.g = approx_derivative(fun_wrapped, self.x, f0=self.f,\n",
      "  File \"C:\\Users\\thinh\\anaconda3\\lib\\site-packages\\scipy\\optimize\\_numdiff.py\", line 505, in approx_derivative\n",
      "    return _dense_difference(fun_wrapped, x0, f0, h,\n",
      "  File \"C:\\Users\\thinh\\anaconda3\\lib\\site-packages\\scipy\\optimize\\_numdiff.py\", line 576, in _dense_difference\n",
      "    df = fun(x) - f0\n",
      "  File \"C:\\Users\\thinh\\anaconda3\\lib\\site-packages\\scipy\\optimize\\_numdiff.py\", line 456, in fun_wrapped\n",
      "    f = np.atleast_1d(fun(x, *args, **kwargs))\n",
      "  File \"C:\\Users\\thinh\\anaconda3\\lib\\site-packages\\scipy\\optimize\\_differentiable_functions.py\", line 137, in fun_wrapped\n",
      "    fx = fun(np.copy(x), *args)\n",
      "  File \"C:\\Users\\thinh\\anaconda3\\lib\\site-packages\\statsmodels\\base\\model.py\", line 531, in f\n",
      "    return -self.loglike(params, *args) / nobs\n",
      "  File \"C:\\Users\\thinh\\anaconda3\\lib\\site-packages\\statsmodels\\tsa\\statespace\\mlemodel.py\", line 939, in loglike\n",
      "    loglike = self.ssm.loglike(complex_step=complex_step, **kwargs)\n",
      "  File \"C:\\Users\\thinh\\anaconda3\\lib\\site-packages\\statsmodels\\tsa\\statespace\\kalman_filter.py\", line 983, in loglike\n",
      "    kfilter = self._filter(**kwargs)\n",
      "  File \"C:\\Users\\thinh\\anaconda3\\lib\\site-packages\\statsmodels\\tsa\\statespace\\kalman_filter.py\", line 903, in _filter\n",
      "    self._initialize_state(prefix=prefix, complex_step=complex_step)\n",
      "  File \"C:\\Users\\thinh\\anaconda3\\lib\\site-packages\\statsmodels\\tsa\\statespace\\representation.py\", line 983, in _initialize_state\n",
      "    self._statespaces[prefix].initialize(self.initialization,\n",
      "  File \"statsmodels\\tsa\\statespace\\_representation.pyx\", line 1373, in statsmodels.tsa.statespace._representation.dStatespace.initialize\n",
      "  File \"statsmodels\\tsa\\statespace\\_representation.pyx\", line 1362, in statsmodels.tsa.statespace._representation.dStatespace.initialize\n",
      "  File \"statsmodels\\tsa\\statespace\\_initialization.pyx\", line 288, in statsmodels.tsa.statespace._initialization.dInitialization.initialize\n",
      "  File \"statsmodels\\tsa\\statespace\\_initialization.pyx\", line 406, in statsmodels.tsa.statespace._initialization.dInitialization.initialize_stationary_stationary_cov\n",
      "  File \"statsmodels\\tsa\\statespace\\_tools.pyx\", line 1206, in statsmodels.tsa.statespace._tools._dsolve_discrete_lyapunov\n",
      "numpy.linalg.LinAlgError: LU decomposition error.\n",
      "\n",
      "  warnings.warn(warning_str, ModelFitWarning)\n",
      "C:\\Users\\thinh\\anaconda3\\lib\\site-packages\\pmdarima\\arima\\_auto_solvers.py:524: ModelFitWarning: Error fitting  ARIMA(4,1,0)(2,0,2)[12]           (if you do not want to see these warnings, run with error_action=\"ignore\").\n",
      "Traceback:\n",
      "Traceback (most recent call last):\n",
      "  File \"C:\\Users\\thinh\\anaconda3\\lib\\site-packages\\pmdarima\\arima\\_auto_solvers.py\", line 508, in _fit_candidate_model\n",
      "    fit.fit(y, X=X, **fit_params)\n",
      "  File \"C:\\Users\\thinh\\anaconda3\\lib\\site-packages\\pmdarima\\arima\\arima.py\", line 603, in fit\n",
      "    self._fit(y, X, **fit_args)\n",
      "  File \"C:\\Users\\thinh\\anaconda3\\lib\\site-packages\\pmdarima\\arima\\arima.py\", line 524, in _fit\n",
      "    fit, self.arima_res_ = _fit_wrapper()\n",
      "  File \"C:\\Users\\thinh\\anaconda3\\lib\\site-packages\\pmdarima\\arima\\arima.py\", line 510, in _fit_wrapper\n",
      "    fitted = arima.fit(\n",
      "  File \"C:\\Users\\thinh\\anaconda3\\lib\\site-packages\\statsmodels\\tsa\\statespace\\mlemodel.py\", line 704, in fit\n",
      "    mlefit = super(MLEModel, self).fit(start_params, method=method,\n",
      "  File \"C:\\Users\\thinh\\anaconda3\\lib\\site-packages\\statsmodels\\base\\model.py\", line 563, in fit\n",
      "    xopt, retvals, optim_settings = optimizer._fit(f, score, start_params,\n",
      "  File \"C:\\Users\\thinh\\anaconda3\\lib\\site-packages\\statsmodels\\base\\optimizer.py\", line 241, in _fit\n",
      "    xopt, retvals = func(objective, gradient, start_params, fargs, kwargs,\n",
      "  File \"C:\\Users\\thinh\\anaconda3\\lib\\site-packages\\statsmodels\\base\\optimizer.py\", line 651, in _fit_lbfgs\n",
      "    retvals = optimize.fmin_l_bfgs_b(func, start_params, maxiter=maxiter,\n",
      "  File \"C:\\Users\\thinh\\anaconda3\\lib\\site-packages\\scipy\\optimize\\_lbfgsb_py.py\", line 197, in fmin_l_bfgs_b\n",
      "    res = _minimize_lbfgsb(fun, x0, args=args, jac=jac, bounds=bounds,\n",
      "  File \"C:\\Users\\thinh\\anaconda3\\lib\\site-packages\\scipy\\optimize\\_lbfgsb_py.py\", line 359, in _minimize_lbfgsb\n",
      "    f, g = func_and_grad(x)\n",
      "  File \"C:\\Users\\thinh\\anaconda3\\lib\\site-packages\\scipy\\optimize\\_differentiable_functions.py\", line 286, in fun_and_grad\n",
      "    self._update_grad()\n",
      "  File \"C:\\Users\\thinh\\anaconda3\\lib\\site-packages\\scipy\\optimize\\_differentiable_functions.py\", line 256, in _update_grad\n",
      "    self._update_grad_impl()\n",
      "  File \"C:\\Users\\thinh\\anaconda3\\lib\\site-packages\\scipy\\optimize\\_differentiable_functions.py\", line 173, in update_grad\n",
      "    self.g = approx_derivative(fun_wrapped, self.x, f0=self.f,\n",
      "  File \"C:\\Users\\thinh\\anaconda3\\lib\\site-packages\\scipy\\optimize\\_numdiff.py\", line 505, in approx_derivative\n",
      "    return _dense_difference(fun_wrapped, x0, f0, h,\n",
      "  File \"C:\\Users\\thinh\\anaconda3\\lib\\site-packages\\scipy\\optimize\\_numdiff.py\", line 576, in _dense_difference\n",
      "    df = fun(x) - f0\n",
      "  File \"C:\\Users\\thinh\\anaconda3\\lib\\site-packages\\scipy\\optimize\\_numdiff.py\", line 456, in fun_wrapped\n",
      "    f = np.atleast_1d(fun(x, *args, **kwargs))\n",
      "  File \"C:\\Users\\thinh\\anaconda3\\lib\\site-packages\\scipy\\optimize\\_differentiable_functions.py\", line 137, in fun_wrapped\n",
      "    fx = fun(np.copy(x), *args)\n",
      "  File \"C:\\Users\\thinh\\anaconda3\\lib\\site-packages\\statsmodels\\base\\model.py\", line 531, in f\n",
      "    return -self.loglike(params, *args) / nobs\n",
      "  File \"C:\\Users\\thinh\\anaconda3\\lib\\site-packages\\statsmodels\\tsa\\statespace\\mlemodel.py\", line 939, in loglike\n",
      "    loglike = self.ssm.loglike(complex_step=complex_step, **kwargs)\n",
      "  File \"C:\\Users\\thinh\\anaconda3\\lib\\site-packages\\statsmodels\\tsa\\statespace\\kalman_filter.py\", line 983, in loglike\n",
      "    kfilter = self._filter(**kwargs)\n",
      "  File \"C:\\Users\\thinh\\anaconda3\\lib\\site-packages\\statsmodels\\tsa\\statespace\\kalman_filter.py\", line 903, in _filter\n",
      "    self._initialize_state(prefix=prefix, complex_step=complex_step)\n",
      "  File \"C:\\Users\\thinh\\anaconda3\\lib\\site-packages\\statsmodels\\tsa\\statespace\\representation.py\", line 983, in _initialize_state\n",
      "    self._statespaces[prefix].initialize(self.initialization,\n",
      "  File \"statsmodels\\tsa\\statespace\\_representation.pyx\", line 1373, in statsmodels.tsa.statespace._representation.dStatespace.initialize\n",
      "  File \"statsmodels\\tsa\\statespace\\_representation.pyx\", line 1362, in statsmodels.tsa.statespace._representation.dStatespace.initialize\n",
      "  File \"statsmodels\\tsa\\statespace\\_initialization.pyx\", line 288, in statsmodels.tsa.statespace._initialization.dInitialization.initialize\n",
      "  File \"statsmodels\\tsa\\statespace\\_initialization.pyx\", line 406, in statsmodels.tsa.statespace._initialization.dInitialization.initialize_stationary_stationary_cov\n",
      "  File \"statsmodels\\tsa\\statespace\\_tools.pyx\", line 1206, in statsmodels.tsa.statespace._tools._dsolve_discrete_lyapunov\n",
      "numpy.linalg.LinAlgError: LU decomposition error.\n",
      "\n",
      "  warnings.warn(warning_str, ModelFitWarning)\n"
     ]
    },
    {
     "data": {
      "text/plain": "<Figure size 432x288 with 1 Axes>",
      "image/png": "[encoded data removed]"
     },
     "metadata": {
      "needs_background": "light"
     },
     "output_type": "display_data"
    }
   ],
   "source": [
    "import pmdarima as pm\n",
    "from pmdarima.model_selection import train_test_split\n",
    "import numpy as np\n",
    "import matplotlib.pyplot as plt\n",
    "\n",
    "# Load/split your data\n",
    "y = pm.datasets.load_wineind()\n",
    "train, test = train_test_split(y, train_size=150)\n",
    "\n",
    "# Fit your model\n",
    "model = pm.auto_arima(train, seasonal=True, m=12)\n",
    "\n",
    "# make your forecasts\n",
    "forecasts = model.predict(test.shape[0])  # predict N steps into the future\n",
    "\n",
    "# Visualize the forecasts (blue=train, green=forecasts)\n",
    "x = np.arange(y.shape[0])\n",
    "plt.plot(x[:150], train, c='blue')\n",
    "plt.plot(x[150:], forecasts, c='green')\n",
    "plt.show()"
   ],
   "metadata": {
    "collapsed": false,
    "ExecuteTime": {
     "end_time": "2023-06-08T09:02:55.889951500Z",
     "start_time": "2023-06-08T09:01:58.011680800Z"
    }
   }
  },
  {
   "cell_type": "code",
   "execution_count": 13,
   "outputs": [
    {
     "data": {
      "text/plain": "array([15136., 16733., 20016., 17708., 18019., 19227., 22893., 23739.,\n       21133., 22591., 26786., 29740., 15028., 17977., 20008., 21354.,\n       19498., 22125., 25817., 28779., 20960., 22254., 27392., 29945.,\n       16933., 17892., 20533., 23569., 22417., 22084., 26580., 27454.,\n       24081., 23451., 28991., 31386., 16896., 20045., 23471., 21747.,\n       25621., 23859., 25500., 30998., 24475., 23145., 29701., 34365.,\n       17556., 22077., 25702., 22214., 26886., 23191., 27831., 35406.,\n       23195., 25110., 30009., 36242., 18450., 21845., 26488., 22394.,\n       28057., 25451., 24872., 33424., 24052., 28449., 33533., 37351.,\n       19969., 21701., 26249., 24493., 24603., 26485., 30723., 34569.,\n       26689., 26157., 32064., 38870., 21337., 19419., 23166., 28286.,\n       24570., 24001., 33151., 24878., 26804., 28967., 33311., 40226.,\n       20504., 23060., 23562., 27562., 23940., 24584., 34303., 25517.,\n       23494., 29095., 32903., 34379., 16991., 21109., 23740., 25552.,\n       21752., 20294., 29009., 25500., 24166., 26960., 31222., 38641.,\n       14672., 17543., 25453., 32683., 22449., 22316., 27595., 25451.,\n       25421., 25288., 32568., 35110., 16052., 22146., 21198., 19543.,\n       22084., 23816., 29961., 26773., 26635., 26972., 30207., 38687.,\n       16974., 21697., 24179., 23757., 25013., 24019.])"
     },
     "execution_count": 13,
     "metadata": {},
     "output_type": "execute_result"
    }
   ],
   "source": [
    "train"
   ],
   "metadata": {
    "collapsed": false,
    "ExecuteTime": {
     "end_time": "2023-06-08T10:04:41.166682800Z",
     "start_time": "2023-06-08T10:04:41.158514800Z"
    }
   }
  },
  {
   "cell_type": "code",
   "execution_count": 9,
   "outputs": [
    {
     "data": {
      "text/plain": "array([28544.45100301, 26622.15106476, 26597.51699521, 26637.87557614,\n       30673.00112389, 35811.51055597, 18545.13296834, 22942.78385633,\n       23880.70432663, 23120.35097105, 24595.79969739, 24667.97943481,\n       28986.79802444, 26960.90126616, 26902.7522947 , 27034.75176813,\n       30142.13131759, 35543.79874363, 19639.83323506, 23423.06804023,\n       24718.50816965, 24195.1192492 , 25355.56002955, 25062.66361741,\n       28740.68215362, 27081.80908772])"
     },
     "execution_count": 9,
     "metadata": {},
     "output_type": "execute_result"
    }
   ],
   "source": [
    "forecasts"
   ],
   "metadata": {
    "collapsed": false,
    "ExecuteTime": {
     "end_time": "2023-06-08T09:04:26.074293900Z",
     "start_time": "2023-06-08T09:04:26.061142500Z"
    }
   }
  },
  {
   "cell_type": "code",
   "execution_count": 11,
   "outputs": [
    {
     "data": {
      "text/plain": "<class 'statsmodels.iolib.summary.Summary'>\n\"\"\"\n                                      SARIMAX Results                                      \n===========================================================================================\nDep. Variable:                                   y   No. Observations:                  150\nModel:             SARIMAX(2, 1, 1)x(2, 0, [], 12)   Log Likelihood               -1418.496\nDate:                             Thu, 08 Jun 2023   AIC                           2848.992\nTime:                                     17:02:53   BIC                           2867.016\nSample:                                          0   HQIC                          2856.315\n                                             - 150                                         \nCovariance Type:                               opg                                         \n==============================================================================\n                 coef    std err          z      P>|z|      [0.025      0.975]\n------------------------------------------------------------------------------\nar.L1         -0.0339      0.079     -0.430      0.667      -0.188       0.121\nar.L2         -0.2113      0.094     -2.248      0.025      -0.396      -0.027\nma.L1         -0.8622      0.017    -50.311      0.000      -0.896      -0.829\nar.S.L12       0.5045      0.043     11.845      0.000       0.421       0.588\nar.S.L24       0.3313      0.060      5.505      0.000       0.213       0.449\nsigma2      9.567e+06   2.26e-09   4.24e+15      0.000    9.57e+06    9.57e+06\n===================================================================================\nLjung-Box (L1) (Q):                   0.37   Jarque-Bera (JB):               461.40\nProb(Q):                              0.54   Prob(JB):                         0.00\nHeteroskedasticity (H):               0.47   Skew:                             1.29\nProb(H) (two-sided):                  0.01   Kurtosis:                        11.23\n===================================================================================\n\nWarnings:\n[1] Covariance matrix calculated using the outer product of gradients (complex-step).\n[2] Covariance matrix is singular or near-singular, with condition number 5.09e+30. Standard errors may be unstable.\n\"\"\"",
      "text/html": "<table class=\"simpletable\">\n<caption>SARIMAX Results</caption>\n<tr>\n  <th>Dep. Variable:</th>                  <td>y</td>                <th>  No. Observations:  </th>    <td>150</td>   \n</tr>\n<tr>\n  <th>Model:</th>           <td>SARIMAX(2, 1, 1)x(2, 0, [], 12)</td> <th>  Log Likelihood     </th> <td>-1418.496</td>\n</tr>\n<tr>\n  <th>Date:</th>                   <td>Thu, 08 Jun 2023</td>         <th>  AIC                </th> <td>2848.992</td> \n</tr>\n<tr>\n  <th>Time:</th>                       <td>17:02:53</td>             <th>  BIC                </th> <td>2867.016</td> \n</tr>\n<tr>\n  <th>Sample:</th>                         <td>0</td>                <th>  HQIC               </th> <td>2856.315</td> \n</tr>\n<tr>\n  <th></th>                             <td> - 150</td>              <th>                     </th>     <td> </td>    \n</tr>\n<tr>\n  <th>Covariance Type:</th>               <td>opg</td>               <th>                     </th>     <td> </td>    \n</tr>\n</table>\n<table class=\"simpletable\">\n<tr>\n      <td></td>        <th>coef</th>     <th>std err</th>      <th>z</th>      <th>P>|z|</th>  <th>[0.025</th>    <th>0.975]</th>  \n</tr>\n<tr>\n  <th>ar.L1</th>    <td>   -0.0339</td> <td>    0.079</td> <td>   -0.430</td> <td> 0.667</td> <td>   -0.188</td> <td>    0.121</td>\n</tr>\n<tr>\n  <th>ar.L2</th>    <td>   -0.2113</td> <td>    0.094</td> <td>   -2.248</td> <td> 0.025</td> <td>   -0.396</td> <td>   -0.027</td>\n</tr>\n<tr>\n  <th>ma.L1</th>    <td>   -0.8622</td> <td>    0.017</td> <td>  -50.311</td> <td> 0.000</td> <td>   -0.896</td> <td>   -0.829</td>\n</tr>\n<tr>\n  <th>ar.S.L12</th> <td>    0.5045</td> <td>    0.043</td> <td>   11.845</td> <td> 0.000</td> <td>    0.421</td> <td>    0.588</td>\n</tr>\n<tr>\n  <th>ar.S.L24</th> <td>    0.3313</td> <td>    0.060</td> <td>    5.505</td> <td> 0.000</td> <td>    0.213</td> <td>    0.449</td>\n</tr>\n<tr>\n  <th>sigma2</th>   <td> 9.567e+06</td> <td> 2.26e-09</td> <td> 4.24e+15</td> <td> 0.000</td> <td> 9.57e+06</td> <td> 9.57e+06</td>\n</tr>\n</table>\n<table class=\"simpletable\">\n<tr>\n  <th>Ljung-Box (L1) (Q):</th>     <td>0.37</td> <th>  Jarque-Bera (JB):  </th> <td>461.40</td>\n</tr>\n<tr>\n  <th>Prob(Q):</th>                <td>0.54</td> <th>  Prob(JB):          </th>  <td>0.00</td> \n</tr>\n<tr>\n  <th>Heteroskedasticity (H):</th> <td>0.47</td> <th>  Skew:              </th>  <td>1.29</td> \n</tr>\n<tr>\n  <th>Prob(H) (two-sided):</th>    <td>0.01</td> <th>  Kurtosis:          </th>  <td>11.23</td>\n</tr>\n</table><br/><br/>Warnings:<br/>[1] Covariance matrix calculated using the outer product of gradients (complex-step).<br/>[2] Covariance matrix is singular or near-singular, with condition number 5.09e+30. Standard errors may be unstable."
     },
     "execution_count": 11,
     "metadata": {},
     "output_type": "execute_result"
    }
   ],
   "source": [
    "model.summary()"
   ],
   "metadata": {
    "collapsed": false,
    "ExecuteTime": {
     "end_time": "2023-06-08T10:02:54.024594Z",
     "start_time": "2023-06-08T10:02:53.989304200Z"
    }
   }
  }
 ],
 "metadata": {
  "kernelspec": {
   "display_name": "Python 3",
   "language": "python",
   "name": "python3"
  },
  "language_info": {
   "codemirror_mode": {
    "name": "ipython",
    "version": 2
   },
   "file_extension": ".py",
   "mimetype": "text/x-python",
   "name": "python",
   "nbconvert_exporter": "python",
   "pygments_lexer": "ipython2",
   "version": "2.7.6"
  }
 },
 "nbformat": 4,
 "nbformat_minor": 0
}
